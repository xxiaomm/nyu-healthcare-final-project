{
 "cells": [
  {
   "cell_type": "markdown",
   "id": "de5a78b0",
   "metadata": {},
   "source": [
    "# Visualization for the relationship between seasons and the count of cases"
   ]
  },
  {
   "cell_type": "code",
   "execution_count": 69,
   "id": "2f2655eb",
   "metadata": {},
   "outputs": [],
   "source": [
    "import datetime\n",
    "import pandas as pd\n",
    "import matplotlib.pyplot as plt\n",
    "import warnings\n",
    "warnings.filterwarnings('ignore')  # \"error\", \"ignore\", \"always\", \"default\", \"module\" or \"once\""
   ]
  },
  {
   "cell_type": "markdown",
   "id": "9e94c986",
   "metadata": {},
   "source": [
    "## Import data"
   ]
  },
  {
   "cell_type": "code",
   "execution_count": 70,
   "id": "fb6a4367",
   "metadata": {},
   "outputs": [
    {
     "data": {
      "text/html": [
       "<div>\n",
       "<style scoped>\n",
       "    .dataframe tbody tr th:only-of-type {\n",
       "        vertical-align: middle;\n",
       "    }\n",
       "\n",
       "    .dataframe tbody tr th {\n",
       "        vertical-align: top;\n",
       "    }\n",
       "\n",
       "    .dataframe thead th {\n",
       "        text-align: right;\n",
       "    }\n",
       "</style>\n",
       "<table border=\"1\" class=\"dataframe\">\n",
       "  <thead>\n",
       "    <tr style=\"text-align: right;\">\n",
       "      <th></th>\n",
       "      <th>date_of_interest</th>\n",
       "      <th>CASE_COUNT</th>\n",
       "      <th>PROBABLE_CASE_COUNT</th>\n",
       "      <th>HOSPITALIZED_COUNT</th>\n",
       "      <th>DEATH_COUNT</th>\n",
       "      <th>PROBABLE_DEATH_COUNT</th>\n",
       "      <th>CASE_COUNT_7DAY_AVG</th>\n",
       "      <th>ALL_CASE_COUNT_7DAY_AVG</th>\n",
       "      <th>HOSP_COUNT_7DAY_AVG</th>\n",
       "      <th>DEATH_COUNT_7DAY_AVG</th>\n",
       "      <th>...</th>\n",
       "      <th>SI_HOSPITALIZED_COUNT</th>\n",
       "      <th>SI_DEATH_COUNT</th>\n",
       "      <th>SI_PROBABLE_DEATH_COUNT</th>\n",
       "      <th>SI_CASE_COUNT_7DAY_AVG</th>\n",
       "      <th>SI_PROBABLE_CASE_COUNT_7DAY_AVG</th>\n",
       "      <th>SI_ALL_CASE_COUNT_7DAY_AVG</th>\n",
       "      <th>SI_HOSPITALIZED_COUNT_7DAY_AVG</th>\n",
       "      <th>SI_DEATH_COUNT_7DAY_AVG</th>\n",
       "      <th>SI_ALL_DEATH_COUNT_7DAY_AVG</th>\n",
       "      <th>INCOMPLETE</th>\n",
       "    </tr>\n",
       "  </thead>\n",
       "  <tbody>\n",
       "    <tr>\n",
       "      <th>0</th>\n",
       "      <td>02/29/2020</td>\n",
       "      <td>1</td>\n",
       "      <td>0</td>\n",
       "      <td>1</td>\n",
       "      <td>0</td>\n",
       "      <td>0</td>\n",
       "      <td>0</td>\n",
       "      <td>0</td>\n",
       "      <td>0</td>\n",
       "      <td>0</td>\n",
       "      <td>...</td>\n",
       "      <td>0</td>\n",
       "      <td>0</td>\n",
       "      <td>0</td>\n",
       "      <td>0</td>\n",
       "      <td>0</td>\n",
       "      <td>0</td>\n",
       "      <td>0</td>\n",
       "      <td>0</td>\n",
       "      <td>0</td>\n",
       "      <td>0</td>\n",
       "    </tr>\n",
       "    <tr>\n",
       "      <th>1</th>\n",
       "      <td>03/01/2020</td>\n",
       "      <td>0</td>\n",
       "      <td>0</td>\n",
       "      <td>1</td>\n",
       "      <td>0</td>\n",
       "      <td>0</td>\n",
       "      <td>0</td>\n",
       "      <td>0</td>\n",
       "      <td>0</td>\n",
       "      <td>0</td>\n",
       "      <td>...</td>\n",
       "      <td>0</td>\n",
       "      <td>0</td>\n",
       "      <td>0</td>\n",
       "      <td>0</td>\n",
       "      <td>0</td>\n",
       "      <td>0</td>\n",
       "      <td>0</td>\n",
       "      <td>0</td>\n",
       "      <td>0</td>\n",
       "      <td>0</td>\n",
       "    </tr>\n",
       "    <tr>\n",
       "      <th>2</th>\n",
       "      <td>03/02/2020</td>\n",
       "      <td>0</td>\n",
       "      <td>0</td>\n",
       "      <td>2</td>\n",
       "      <td>0</td>\n",
       "      <td>0</td>\n",
       "      <td>0</td>\n",
       "      <td>0</td>\n",
       "      <td>0</td>\n",
       "      <td>0</td>\n",
       "      <td>...</td>\n",
       "      <td>0</td>\n",
       "      <td>0</td>\n",
       "      <td>0</td>\n",
       "      <td>0</td>\n",
       "      <td>0</td>\n",
       "      <td>0</td>\n",
       "      <td>0</td>\n",
       "      <td>0</td>\n",
       "      <td>0</td>\n",
       "      <td>0</td>\n",
       "    </tr>\n",
       "    <tr>\n",
       "      <th>3</th>\n",
       "      <td>03/03/2020</td>\n",
       "      <td>1</td>\n",
       "      <td>0</td>\n",
       "      <td>7</td>\n",
       "      <td>0</td>\n",
       "      <td>0</td>\n",
       "      <td>0</td>\n",
       "      <td>0</td>\n",
       "      <td>0</td>\n",
       "      <td>0</td>\n",
       "      <td>...</td>\n",
       "      <td>0</td>\n",
       "      <td>0</td>\n",
       "      <td>0</td>\n",
       "      <td>0</td>\n",
       "      <td>0</td>\n",
       "      <td>0</td>\n",
       "      <td>0</td>\n",
       "      <td>0</td>\n",
       "      <td>0</td>\n",
       "      <td>0</td>\n",
       "    </tr>\n",
       "    <tr>\n",
       "      <th>4</th>\n",
       "      <td>03/04/2020</td>\n",
       "      <td>5</td>\n",
       "      <td>0</td>\n",
       "      <td>2</td>\n",
       "      <td>0</td>\n",
       "      <td>0</td>\n",
       "      <td>0</td>\n",
       "      <td>0</td>\n",
       "      <td>0</td>\n",
       "      <td>0</td>\n",
       "      <td>...</td>\n",
       "      <td>0</td>\n",
       "      <td>0</td>\n",
       "      <td>0</td>\n",
       "      <td>0</td>\n",
       "      <td>0</td>\n",
       "      <td>0</td>\n",
       "      <td>0</td>\n",
       "      <td>0</td>\n",
       "      <td>0</td>\n",
       "      <td>0</td>\n",
       "    </tr>\n",
       "  </tbody>\n",
       "</table>\n",
       "<p>5 rows × 67 columns</p>\n",
       "</div>"
      ],
      "text/plain": [
       "  date_of_interest  CASE_COUNT  PROBABLE_CASE_COUNT  HOSPITALIZED_COUNT  \\\n",
       "0       02/29/2020           1                    0                   1   \n",
       "1       03/01/2020           0                    0                   1   \n",
       "2       03/02/2020           0                    0                   2   \n",
       "3       03/03/2020           1                    0                   7   \n",
       "4       03/04/2020           5                    0                   2   \n",
       "\n",
       "   DEATH_COUNT  PROBABLE_DEATH_COUNT  CASE_COUNT_7DAY_AVG  \\\n",
       "0            0                     0                    0   \n",
       "1            0                     0                    0   \n",
       "2            0                     0                    0   \n",
       "3            0                     0                    0   \n",
       "4            0                     0                    0   \n",
       "\n",
       "   ALL_CASE_COUNT_7DAY_AVG  HOSP_COUNT_7DAY_AVG  DEATH_COUNT_7DAY_AVG  ...  \\\n",
       "0                        0                    0                     0  ...   \n",
       "1                        0                    0                     0  ...   \n",
       "2                        0                    0                     0  ...   \n",
       "3                        0                    0                     0  ...   \n",
       "4                        0                    0                     0  ...   \n",
       "\n",
       "   SI_HOSPITALIZED_COUNT  SI_DEATH_COUNT  SI_PROBABLE_DEATH_COUNT  \\\n",
       "0                      0               0                        0   \n",
       "1                      0               0                        0   \n",
       "2                      0               0                        0   \n",
       "3                      0               0                        0   \n",
       "4                      0               0                        0   \n",
       "\n",
       "   SI_CASE_COUNT_7DAY_AVG  SI_PROBABLE_CASE_COUNT_7DAY_AVG  \\\n",
       "0                       0                                0   \n",
       "1                       0                                0   \n",
       "2                       0                                0   \n",
       "3                       0                                0   \n",
       "4                       0                                0   \n",
       "\n",
       "   SI_ALL_CASE_COUNT_7DAY_AVG  SI_HOSPITALIZED_COUNT_7DAY_AVG  \\\n",
       "0                           0                               0   \n",
       "1                           0                               0   \n",
       "2                           0                               0   \n",
       "3                           0                               0   \n",
       "4                           0                               0   \n",
       "\n",
       "   SI_DEATH_COUNT_7DAY_AVG  SI_ALL_DEATH_COUNT_7DAY_AVG  INCOMPLETE  \n",
       "0                        0                            0           0  \n",
       "1                        0                            0           0  \n",
       "2                        0                            0           0  \n",
       "3                        0                            0           0  \n",
       "4                        0                            0           0  \n",
       "\n",
       "[5 rows x 67 columns]"
      ]
     },
     "execution_count": 70,
     "metadata": {},
     "output_type": "execute_result"
    }
   ],
   "source": [
    "data = pd.read_csv('data-by-day.csv')\n",
    "data.head()"
   ]
  },
  {
   "cell_type": "code",
   "execution_count": 71,
   "id": "f7fe7ea6",
   "metadata": {},
   "outputs": [
    {
     "data": {
      "text/plain": [
       "date_of_interest                  object\n",
       "CASE_COUNT                         int64\n",
       "PROBABLE_CASE_COUNT                int64\n",
       "HOSPITALIZED_COUNT                 int64\n",
       "DEATH_COUNT                        int64\n",
       "                                   ...  \n",
       "SI_ALL_CASE_COUNT_7DAY_AVG         int64\n",
       "SI_HOSPITALIZED_COUNT_7DAY_AVG     int64\n",
       "SI_DEATH_COUNT_7DAY_AVG            int64\n",
       "SI_ALL_DEATH_COUNT_7DAY_AVG        int64\n",
       "INCOMPLETE                         int64\n",
       "Length: 67, dtype: object"
      ]
     },
     "execution_count": 71,
     "metadata": {},
     "output_type": "execute_result"
    }
   ],
   "source": [
    "data.dtypes"
   ]
  },
  {
   "cell_type": "markdown",
   "id": "16b733b5",
   "metadata": {},
   "source": [
    "## Change date from object type to datetime type"
   ]
  },
  {
   "cell_type": "code",
   "execution_count": 73,
   "id": "1be941ef",
   "metadata": {},
   "outputs": [
    {
     "data": {
      "text/plain": [
       "date_of_interest                  datetime64[ns]\n",
       "CASE_COUNT                                 int64\n",
       "PROBABLE_CASE_COUNT                        int64\n",
       "HOSPITALIZED_COUNT                         int64\n",
       "DEATH_COUNT                                int64\n",
       "                                       ...      \n",
       "SI_ALL_CASE_COUNT_7DAY_AVG                 int64\n",
       "SI_HOSPITALIZED_COUNT_7DAY_AVG             int64\n",
       "SI_DEATH_COUNT_7DAY_AVG                    int64\n",
       "SI_ALL_DEATH_COUNT_7DAY_AVG                int64\n",
       "INCOMPLETE                                 int64\n",
       "Length: 67, dtype: object"
      ]
     },
     "execution_count": 73,
     "metadata": {},
     "output_type": "execute_result"
    }
   ],
   "source": [
    "data['date_of_interest'] =data['date_of_interest'].astype('datetime64[ns]')\n",
    "data.head()\n",
    "data.dtypes"
   ]
  },
  {
   "cell_type": "markdown",
   "id": "f4aa6921",
   "metadata": {},
   "source": [
    "## Define function to get the sum of cases for each season"
   ]
  },
  {
   "cell_type": "code",
   "execution_count": 74,
   "id": "23ecf69e",
   "metadata": {},
   "outputs": [
    {
     "data": {
      "text/plain": [
       "[202892,\n",
       " 28076,\n",
       " 72781,\n",
       " 322887,\n",
       " 159944,\n",
       " 70557,\n",
       " 96359,\n",
       " 993774,\n",
       " 186697,\n",
       " 249970,\n",
       " 163608,\n",
       " 5296]"
      ]
     },
     "execution_count": 74,
     "metadata": {},
     "output_type": "execute_result"
    }
   ],
   "source": [
    "# get the sum of cases in specific date(spring, summer, fall, winter)\n",
    "def getSum(data)-> list: \n",
    "    cnt_2020_spr, cnt_2020_summ, cnt_2020_fall, cnt_2020_win = 0, 0, 0, 0\n",
    "    cnt_2021_spr, cnt_2021_summ, cnt_2021_fall, cnt_2021_win = 0, 0, 0, 0\n",
    "    cnt_2022_spr, cnt_2022_summ, cnt_2022_fall, cnt_2022_win = 0, 0, 0, 0\n",
    "    for index, row in data.iterrows():\n",
    "        if pd.to_datetime(\"2020-03-01\").date() <= row['date_of_interest'] <= pd.to_datetime(\"2020-05-31\").date():\n",
    "            cnt_2020_spr += row['CASE_COUNT']\n",
    "        elif pd.to_datetime(\"2021-03-01\").date() <= row['date_of_interest'] <= pd.to_datetime(\"2021-05-31\").date():\n",
    "            cnt_2021_spr += row['CASE_COUNT']\n",
    "        elif pd.to_datetime(\"2022-03-01\").date() <= row['date_of_interest'] <= pd.to_datetime(\"2022-05-31\").date():\n",
    "            cnt_2022_spr += row['CASE_COUNT']\n",
    "        elif pd.to_datetime(\"2020-06-01\").date() <= row['date_of_interest'] <= pd.to_datetime(\"2020-08-31\").date():\n",
    "            cnt_2020_summ += row['CASE_COUNT']\n",
    "        elif pd.to_datetime(\"2021-06-01\").date() <= row['date_of_interest'] <= pd.to_datetime(\"2021-08-31\").date():\n",
    "            cnt_2021_summ += row['CASE_COUNT']\n",
    "        elif pd.to_datetime(\"2022-06-01\").date() <= row['date_of_interest'] <= pd.to_datetime(\"2022-08-31\").date():\n",
    "            cnt_2022_summ += row['CASE_COUNT']\n",
    "        elif pd.to_datetime(\"2020-09-01\").date() <= row['date_of_interest'] <= pd.to_datetime(\"2020-11-30\").date():\n",
    "            cnt_2020_fall += row['CASE_COUNT'] \n",
    "        elif pd.to_datetime(\"2021-09-01\").date() <= row['date_of_interest'] <= pd.to_datetime(\"2021-11-30\").date():\n",
    "            cnt_2021_fall += row['CASE_COUNT'] \n",
    "        elif pd.to_datetime(\"2022-09-01\").date() <= row['date_of_interest'] <= pd.to_datetime(\"2022-11-30\").date():\n",
    "            cnt_2022_fall += row['CASE_COUNT'] \n",
    "        elif pd.to_datetime(\"2020-12-01\").date() <= row['date_of_interest'] <= pd.to_datetime(\"2021-02-28\").date():\n",
    "            cnt_2020_win += row['CASE_COUNT']\n",
    "        elif pd.to_datetime(\"2021-12-01\").date() <= row['date_of_interest'] <= pd.to_datetime(\"2022-02-28\").date():\n",
    "            cnt_2021_win += row['CASE_COUNT']\n",
    "        elif pd.to_datetime(\"2022-12-01\").date() <= row['date_of_interest'] <= pd.to_datetime(\"2023-02-28\").date():\n",
    "            cnt_2022_win += row['CASE_COUNT']\n",
    "        \n",
    "    return [cnt_2020_spr, cnt_2020_summ, cnt_2020_fall, cnt_2020_win, \n",
    "            cnt_2021_spr, cnt_2021_summ, cnt_2021_fall, cnt_2021_win,\n",
    "            cnt_2022_spr, cnt_2022_summ, cnt_2022_fall, cnt_2022_win]\n",
    "\n",
    "result = getSum(data)\n",
    "result"
   ]
  },
  {
   "cell_type": "markdown",
   "id": "94bc2e5c",
   "metadata": {},
   "source": [
    "## Visualization1: The count of cases for every season in every year (2020 - 2022)"
   ]
  },
  {
   "cell_type": "code",
   "execution_count": 75,
   "id": "fe1aa178",
   "metadata": {},
   "outputs": [
    {
     "data": {
      "image/png": "[encoded data removed]",
      "text/plain": [
       "<Figure size 432x288 with 1 Axes>"
      ]
     },
     "metadata": {
      "needs_background": "light"
     },
     "output_type": "display_data"
    }
   ],
   "source": [
    "x = ['Spring(May-Mar)', 'Summer(Jun-Aug)', 'Fall(Sep-Nov)', 'Winter(Dec-Feb)']\n",
    "y1 = [result[0], result[1], result[2], result[3]]\n",
    "y2 = [result[4], result[5], result[6], result[7]]\n",
    "y3 = [result[8], result[9], result[10], result[11]]\n",
    "plt.plot(x, y1, color='r')\n",
    "plt.plot(x, y2, color='g')\n",
    "plt.plot(x, y3, color='b')\n",
    "plt.xlabel('Season')\n",
    "plt.ylabel('count of cases')\n",
    "plt.show()"
   ]
  },
  {
   "cell_type": "markdown",
   "id": "b158eb32",
   "metadata": {},
   "source": [
    "## Visualization2: The total count for three years(2020 - 2022) of cases for every season"
   ]
  },
  {
   "cell_type": "code",
   "execution_count": 76,
   "id": "6b4281a7",
   "metadata": {},
   "outputs": [
    {
     "data": {
      "image/png": "[encoded data removed]",
      "text/plain": [
       "<Figure size 432x288 with 1 Axes>"
      ]
     },
     "metadata": {
      "needs_background": "light"
     },
     "output_type": "display_data"
    }
   ],
   "source": [
    "x = ['Spring(May-Mar)', 'Summer(Jun-Aug)', 'Fall(Sep-Nov)', 'Winter(Dec-Feb)']\n",
    "spr = result[0]+result[4]+result[8]\n",
    "summ = result[1]+result[5]+result[9]\n",
    "fall = result[2]+result[6]+result[10]\n",
    "win = result[3]+result[7]+result[11]\n",
    "y = [spr, summ, fall, win]\n",
    "plt.plot(x, y)\n",
    "plt.xlabel('Season')\n",
    "plt.ylabel('count of cases')\n",
    "plt.show()"
   ]
  },
  {
   "cell_type": "code",
   "execution_count": null,
   "id": "abbc1da2",
   "metadata": {},
   "outputs": [],
   "source": []
  }
 ],
 "metadata": {
  "kernelspec": {
   "display_name": "Python 3 (ipykernel)",
   "language": "python",
   "name": "python3"
  },
  "language_info": {
   "codemirror_mode": {
    "name": "ipython",
    "version": 3
   },
   "file_extension": ".py",
   "mimetype": "text/x-python",
   "name": "python",
   "nbconvert_exporter": "python",
   "pygments_lexer": "ipython3",
   "version": "3.9.7"
  }
 },
 "nbformat": 4,
 "nbformat_minor": 5
}
